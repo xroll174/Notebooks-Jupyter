{
 "cells": [
  {
   "cell_type": "markdown",
   "id": "81c4e23a",
   "metadata": {},
   "source": [
    "# Fonctions"
   ]
  },
  {
   "cell_type": "markdown",
   "id": "a90a4641",
   "metadata": {},
   "source": [
    "## Cours"
   ]
  },
  {
   "cell_type": "markdown",
   "id": "05b53017",
   "metadata": {},
   "source": [
    "En informatique, une fonction est un objet qui prend une ou plusieurs valeurs en *entrée*, à partir desquelles elle calcule une valeur en *sortie*.\n",
    "\n",
    "Il existe des fonctions prédéfinies que l'on a déjà rencontrées (fonction `sqrt()` sur des réels positifs pour calculer leur racine carrée, `len()` sur des listes pour calculer leur longueurs...). Ces fonctions peuvent être appliquées sur les différents types de variables : nombres, chaînes de caractères, booléens, listes...\n",
    "\n",
    "Il est possible de **définir de nouvelles fonctions** sur les différents types de variables, avec une valeur en sortie calculée à partir des opérations et outils (boucles, conditions) que l'on a déjà vus. On les définit de la façon suivantes :\n",
    "\n",
    "`def f(x):\n",
    "    {instructions}\n",
    "    return y`\n",
    "    \n",
    "Avec :\n",
    "* f le nom de la nouvelle fonction définie, indiquée par `def`\n",
    "* x le nom de paramètre d'entrée, utilisé localement\n",
    "* {instructions} l'ensemble des opérations effectuées sur x pour calculer une valeur de sortie\n",
    "* y la valeur de sortie de la fonction, indiquée par l'instruction `return`\n",
    "\n",
    "*Remarque :* Comme pour les boucles et les conditions, les instructions à l'intérieur de la définition doivent être indentées (espacées d'une tabulation) par rapport à la première ligne, et il y a deux points à la fin de la première ligne.\n",
    "\n",
    "Exemple : les lignes de commandes ci-dessous permettent de définir la fonction *f1(x) = 2x+1* :"
   ]
  },
  {
   "cell_type": "code",
   "execution_count": 2,
   "id": "4bca07b0",
   "metadata": {},
   "outputs": [],
   "source": [
    "def f1(x):\n",
    "    y = 2*x+1\n",
    "    return y"
   ]
  },
  {
   "cell_type": "markdown",
   "id": "af236b5f",
   "metadata": {},
   "source": [
    "On peut tester le calcul de *f1(x)* pour différentes valeurs de *x* :"
   ]
  },
  {
   "cell_type": "code",
   "execution_count": 6,
   "id": "8d354ab8",
   "metadata": {},
   "outputs": [
    {
     "name": "stdout",
     "output_type": "stream",
     "text": [
      "7\n",
      "9\n",
      "11\n"
     ]
    }
   ],
   "source": [
    "print(f1(3));\n",
    "print(f1(4));\n",
    "print(f1(5))"
   ]
  },
  {
   "cell_type": "markdown",
   "id": "8b4cd96f",
   "metadata": {},
   "source": [
    "*Remarque :* On peut également faire des calculs directement à l'intérieur de `return`. La fonction précédente peut également être définie de cette façon :"
   ]
  },
  {
   "cell_type": "code",
   "execution_count": 8,
   "id": "c50bad8c",
   "metadata": {},
   "outputs": [],
   "source": [
    "def f2(x):\n",
    "    return 2*x+1"
   ]
  },
  {
   "cell_type": "code",
   "execution_count": 9,
   "id": "e3db1bc1",
   "metadata": {},
   "outputs": [
    {
     "name": "stdout",
     "output_type": "stream",
     "text": [
      "7\n",
      "9\n",
      "11\n"
     ]
    }
   ],
   "source": [
    "print(f2(3));\n",
    "print(f2(4));\n",
    "print(f2(5))"
   ]
  },
  {
   "cell_type": "markdown",
   "id": "1c413bb8",
   "metadata": {},
   "source": [
    "On peut également utiliser des conditions à l'intérieur des fonctions, notamment pour renvoyer plusieurs sorties différentes avec l'instruction `return` utilisée plusieurs fois. Par exemple, la fonction suivante prend en entrée un réel et renvoie 8 si x ≥ 5 et 3 sinon :"
   ]
  },
  {
   "cell_type": "code",
   "execution_count": 11,
   "id": "9ab8f06f",
   "metadata": {},
   "outputs": [],
   "source": [
    "def f(x):\n",
    "    if x >=5:\n",
    "        return 8\n",
    "    else:\n",
    "        return 3"
   ]
  },
  {
   "cell_type": "code",
   "execution_count": 12,
   "id": "ff4ee6bb",
   "metadata": {},
   "outputs": [
    {
     "name": "stdout",
     "output_type": "stream",
     "text": [
      "8\n",
      "3\n",
      "3\n",
      "8\n"
     ]
    }
   ],
   "source": [
    "print(f(14));\n",
    "print(f(1));\n",
    "print(f(4));\n",
    "print(f(37));"
   ]
  },
  {
   "cell_type": "markdown",
   "id": "2865a4d0",
   "metadata": {},
   "source": [
    "On peut également utiliser des ensembles d'instructions plus complexes. Par exemple, on avait défini les accumulateurs, qui calculaient des sommes et produites de nombres situés entre des valeurs prédéfinies. Les fonctions permettent de définir un accumuluteur en fonction d'une valeur d'entrée donnée. Par exemple :"
   ]
  },
  {
   "cell_type": "code",
   "execution_count": 14,
   "id": "2f3ba146",
   "metadata": {},
   "outputs": [],
   "source": [
    "def f(n):\n",
    "    S = 0\n",
    "    for k in range(1,n+1):\n",
    "        S = S+2*k\n",
    "    return S"
   ]
  },
  {
   "cell_type": "markdown",
   "id": "17fb6512",
   "metadata": {},
   "source": [
    "Cette fonction prend en entrée une valeur *n* et sort *f(n) = 2 + 4 + 6 + ... + 2n*."
   ]
  },
  {
   "cell_type": "code",
   "execution_count": 15,
   "id": "7ca0301e",
   "metadata": {},
   "outputs": [
    {
     "name": "stdout",
     "output_type": "stream",
     "text": [
      "12\n",
      "20\n",
      "56\n"
     ]
    }
   ],
   "source": [
    "print(f(3));\n",
    "print(f(4));\n",
    "print(f(7));"
   ]
  },
  {
   "cell_type": "markdown",
   "id": "6f76eded",
   "metadata": {},
   "source": [
    "# Exercices"
   ]
  },
  {
   "cell_type": "code",
   "execution_count": null,
   "id": "111f2b59",
   "metadata": {},
   "outputs": [],
   "source": []
  }
 ],
 "metadata": {
  "kernelspec": {
   "display_name": "Python 3 (ipykernel)",
   "language": "python",
   "name": "python3"
  },
  "language_info": {
   "codemirror_mode": {
    "name": "ipython",
    "version": 3
   },
   "file_extension": ".py",
   "mimetype": "text/x-python",
   "name": "python",
   "nbconvert_exporter": "python",
   "pygments_lexer": "ipython3",
   "version": "3.9.13"
  }
 },
 "nbformat": 4,
 "nbformat_minor": 5
}
