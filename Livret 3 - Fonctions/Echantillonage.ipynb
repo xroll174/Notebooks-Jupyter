{
 "cells": [
  {
   "cell_type": "markdown",
   "id": "dee78610",
   "metadata": {},
   "source": [
    "# 1) Rappels"
   ]
  },
  {
   "cell_type": "markdown",
   "id": "bf09d43d",
   "metadata": {},
   "source": [
    "## Fonctions"
   ]
  },
  {
   "cell_type": "markdown",
   "id": "7b6a721f",
   "metadata": {},
   "source": [
    "On définit une fonction de la façon suivante (exécuter la cellule en cliquant dessus et en faisant Shift + Entrée) :"
   ]
  },
  {
   "cell_type": "code",
   "execution_count": 1,
   "id": "0ef25879",
   "metadata": {},
   "outputs": [
    {
     "name": "stdout",
     "output_type": "stream",
     "text": [
      "11\n"
     ]
    }
   ],
   "source": [
    "def f(x) :\n",
    "    return 2*x+1"
   ]
  },
  {
   "cell_type": "markdown",
   "id": "3251d244",
   "metadata": {},
   "source": [
    "On peut ensuite l'utiliser sur les valeurs pour lesquelles la fonction est définie :"
   ]
  },
  {
   "cell_type": "code",
   "execution_count": 2,
   "id": "eb76cd1f",
   "metadata": {},
   "outputs": [
    {
     "data": {
      "text/plain": [
       "11"
      ]
     },
     "execution_count": 2,
     "metadata": {},
     "output_type": "execute_result"
    }
   ],
   "source": [
    "print(f(5))"
   ]
  },
  {
   "cell_type": "markdown",
   "id": "2afed209",
   "metadata": {},
   "source": [
    "## Simulation d'Expériences Aléatoires"
   ]
  },
  {
   "cell_type": "markdown",
   "id": "4be1d4bd",
   "metadata": {},
   "source": [
    "Les deux fonctions suivantes permettent de simuler des expériences aléatoires :\n",
    "\n",
    "-La fonction 'random()' qui permet de choisir un réel entre 0 et 1 ;\n",
    "\n",
    "-la fonction 'randint(m,n)' qui permet de choisir un entier entre m et n.\n",
    "\n",
    "Exemple :"
   ]
  },
  {
   "cell_type": "code",
   "execution_count": 43,
   "id": "7fb4887e",
   "metadata": {},
   "outputs": [
    {
     "name": "stdout",
     "output_type": "stream",
     "text": [
      "Pile\n"
     ]
    }
   ],
   "source": [
    "from random import random\n",
    "from random import randint\n",
    "\n",
    "\n",
    "def issue() :\n",
    "    if random()<0.80 :\n",
    "        return \"Pile\"\n",
    "    else :\n",
    "        return \"Face\"\n",
    "print(issue())"
   ]
  },
  {
   "cell_type": "markdown",
   "id": "c2ee193e",
   "metadata": {},
   "source": [
    "#### Remarque :\n",
    "\n",
    "La fonction random doit ici être importée, on l'importe depuis un module. Les modules sont des bibliothèques permettant d'accéder à des fonctions spécifiques ; en l'occurrence, le module 'random' permet d'accéder aux fonctions 'random' et 'randint'.\n",
    "\n",
    "Il y a plusieurs façons d'importer les fonctions :\n",
    "\n",
    "-En écrivant 'from [module] import [fonction]' : on utilise alors le nom de fonctions directement, par exemple 'random()'.\n",
    "\n",
    "-En écrivant 'import [module]' : dans ce cas, on doit avant d'utiliser la fonction spécifier le module auquel elle appartient : 'random.randint()' ou 'random.random()', par exemple.\n",
    "\n",
    "-En écrivant 'import [module] as [nom]' : cela permet de changer le nom que l'on va utiliser en appelant le package (pour simplifier l'écriture par exemple). Si on a fait 'import random as rd', on appellera les fonctions de cette façon : 'rd.random()', 'rd.randint()'."
   ]
  },
  {
   "cell_type": "markdown",
   "id": "e947de8b",
   "metadata": {},
   "source": [
    "## Marche Aléatoire"
   ]
  },
  {
   "cell_type": "markdown",
   "id": "eb99ee13",
   "metadata": {},
   "source": [
    "Une marche aléatoire est un événement aléatoire dont le résultat est obtenu en cumulant plusieurs événements aléatoires ponctuels de même loi.\n",
    "\n",
    "Pour définir une marche aléatoire, on définit :\n",
    "\n",
    "-Un pas, qui nous donne la loi de chaque événement ponctuel ;\n",
    "\n",
    "-Une marche, qui consiste à répéter ce pas un certain nombre de fois."
   ]
  },
  {
   "cell_type": "code",
   "execution_count": 18,
   "id": "b77c34f7",
   "metadata": {},
   "outputs": [
    {
     "name": "stdout",
     "output_type": "stream",
     "text": [
      "73\n"
     ]
    }
   ],
   "source": [
    "def pas() :\n",
    "    if random()<0.80 :\n",
    "        return +2\n",
    "    else :\n",
    "        return -1\n",
    "def marche() :\n",
    "    S=40\n",
    "    for n in range(30) :\n",
    "        S=S+pas()\n",
    "    return S\n",
    "print(marche())"
   ]
  },
  {
   "cell_type": "markdown",
   "id": "6dff6d42",
   "metadata": {},
   "source": [
    "## Simulation de Variables Aléatoires"
   ]
  },
  {
   "cell_type": "markdown",
   "id": "b7938270",
   "metadata": {},
   "source": [
    "Une variable aléatoire est une fonction $X$ qui associe une valeur à chaque issue d'une expérience aléatoire."
   ]
  },
  {
   "cell_type": "code",
   "execution_count": 27,
   "id": "4a7a48db",
   "metadata": {},
   "outputs": [
    {
     "name": "stdout",
     "output_type": "stream",
     "text": [
      "1\n"
     ]
    }
   ],
   "source": [
    "def issue() :\n",
    "    if random()<0.80 :\n",
    "        return \"Pile\"\n",
    "    else :\n",
    "        return \"Face\"\n",
    "\n",
    "def X(x) :\n",
    "    if x==\"Pile\" :\n",
    "        return 1\n",
    "    else :\n",
    "        return -5\n",
    "print(X(issue()))"
   ]
  },
  {
   "cell_type": "markdown",
   "id": "cc6bad9f",
   "metadata": {},
   "source": [
    "# 2) Echantillonnage"
   ]
  },
  {
   "cell_type": "markdown",
   "id": "87b439a2",
   "metadata": {},
   "source": [
    "Pour créer un échantillon de taille $N$ d'une expérience aléatoire, on utilise l’instruction L=[issue() for n in range(N)]."
   ]
  },
  {
   "cell_type": "markdown",
   "id": "c4c30f9e",
   "metadata": {},
   "source": [
    "#### Exemple 1 :"
   ]
  },
  {
   "cell_type": "code",
   "execution_count": 41,
   "id": "e76a75e2",
   "metadata": {},
   "outputs": [
    {
     "name": "stdout",
     "output_type": "stream",
     "text": [
      "['Face', 'Pile', 'Pile', 'Pile', 'Pile', 'Pile', 'Face', 'Pile', 'Pile', 'Face']\n"
     ]
    }
   ],
   "source": [
    "def issue() :\n",
    "    if random()<0.80 :\n",
    "        return \"Pile\"\n",
    "    else :\n",
    "        return \"Face\"\n",
    "\n",
    "L=[issue() for n in range(10)]\n",
    "print(L)"
   ]
  },
  {
   "cell_type": "markdown",
   "id": "6788f4b3",
   "metadata": {},
   "source": [
    "#### Exemple 2 :"
   ]
  },
  {
   "cell_type": "code",
   "execution_count": 44,
   "id": "85a35663",
   "metadata": {},
   "outputs": [
    {
     "name": "stdout",
     "output_type": "stream",
     "text": [
      "['jaune', 'jaune', 'verte', 'verte', 'bleue', 'bleue', 'verte', 'bleue', 'bleue', 'bleue', 'verte', 'jaune', 'bleue', 'jaune', 'jaune', 'jaune', 'jaune', 'verte', 'jaune', 'verte']\n"
     ]
    }
   ],
   "source": [
    "def issue() :\n",
    "    L=[\"verte\",\"verte\",\"jaune\",\"jaune\",\"bleue\"]\n",
    "    return L[randint(0,4)]\n",
    "L=[issue() for n in range(20)]\n",
    "print(L)"
   ]
  },
  {
   "cell_type": "markdown",
   "id": "eec8fefb",
   "metadata": {},
   "source": [
    "#### Exemple 3 :"
   ]
  },
  {
   "cell_type": "code",
   "execution_count": 46,
   "id": "44b5513a",
   "metadata": {},
   "outputs": [
    {
     "name": "stdout",
     "output_type": "stream",
     "text": [
      "[4, 3, 5, 4, 6, 4, 5, 7, 5, 4, 7, 6, 4, 6, 3, 6, 5, 4, 6, 3, 6, 2, 7, 6, 7, 4, 8, 5, 6, 6, 3, 3, 2, 4, 5, 6, 4, 5, 4, 5, 3, 5, 3, 5, 7, 5, 6, 5, 4, 5]\n"
     ]
    }
   ],
   "source": [
    "def issue() :\n",
    "    a=randint(1,4)\n",
    "    b=randint(1,4)\n",
    "    return a+b\n",
    "L=[issue() for n in range(50)]\n",
    "print(L)"
   ]
  },
  {
   "cell_type": "markdown",
   "id": "dea47fc1",
   "metadata": {},
   "source": [
    "# 3) Exercices"
   ]
  },
  {
   "cell_type": "markdown",
   "id": "6150a155",
   "metadata": {},
   "source": [
    "##### 21) Écrire un programme qui affiche un échantillon de taille 10 de l’expérience suivante.\n",
    "\n",
    "a) On lance une pièce pipée qui a une chance sur quatre d’obtenir \"Pile\"."
   ]
  },
  {
   "cell_type": "code",
   "execution_count": null,
   "id": "1bf21e0c",
   "metadata": {},
   "outputs": [],
   "source": []
  },
  {
   "cell_type": "markdown",
   "id": "7a0ba63d",
   "metadata": {},
   "source": [
    "b) On lance une pièce pipée qui a une chance sur cinq d’obtenir \"Face\"."
   ]
  },
  {
   "cell_type": "code",
   "execution_count": null,
   "id": "a3ebcddf",
   "metadata": {},
   "outputs": [],
   "source": []
  },
  {
   "cell_type": "markdown",
   "id": "eedc395a",
   "metadata": {},
   "source": [
    "c) On lance une pièce pipée qui a 30 % de chances d’obtenir \"Pile\"."
   ]
  },
  {
   "cell_type": "code",
   "execution_count": null,
   "id": "2c86e3c5",
   "metadata": {},
   "outputs": [],
   "source": []
  },
  {
   "cell_type": "markdown",
   "id": "cd8eadeb",
   "metadata": {},
   "source": [
    "d) On lance une pièce pipée qui a 60 % de chances d’obtenir \"Face\"."
   ]
  },
  {
   "cell_type": "code",
   "execution_count": null,
   "id": "4d1853fb",
   "metadata": {},
   "outputs": [],
   "source": []
  },
  {
   "cell_type": "markdown",
   "id": "146177c9",
   "metadata": {},
   "source": [
    "##### 22) Écrire un programme qui affiche un échantillon de taille 15 de l’expérience suivante.\n",
    "\n",
    "a) On tire une boule dans une urne contenant : deux boules bleues, une boule blanche."
   ]
  },
  {
   "cell_type": "code",
   "execution_count": null,
   "id": "54e4b3e5",
   "metadata": {},
   "outputs": [],
   "source": []
  },
  {
   "cell_type": "markdown",
   "id": "909de425",
   "metadata": {},
   "source": [
    "b) On tire une boule dans une urne contenant : 4 boules bleues, 6 rouges, 3 blanches."
   ]
  },
  {
   "cell_type": "code",
   "execution_count": null,
   "id": "2d12cf89",
   "metadata": {},
   "outputs": [],
   "source": []
  },
  {
   "cell_type": "markdown",
   "id": "d12b5f19",
   "metadata": {},
   "source": [
    "c) On tire une boule dans une urne contenant : une boule rouge, une orange, une jaune."
   ]
  },
  {
   "cell_type": "code",
   "execution_count": null,
   "id": "b822af34",
   "metadata": {},
   "outputs": [],
   "source": []
  },
  {
   "cell_type": "markdown",
   "id": "9e76da67",
   "metadata": {},
   "source": [
    "d) On tire une boule dans une urne contenant : 5 boules vertes, 4 oranges, 6 bleues."
   ]
  },
  {
   "cell_type": "code",
   "execution_count": null,
   "id": "6139ed22",
   "metadata": {},
   "outputs": [],
   "source": []
  },
  {
   "cell_type": "markdown",
   "id": "0fdea448",
   "metadata": {},
   "source": [
    "##### 23) Écrire un programme qui affiche un échantillon de taille 100 de l’expérience suivante.\n",
    "\n",
    "a) On lance deux dés équilibrés à six faces et on additionne les nombres obtenus."
   ]
  },
  {
   "cell_type": "code",
   "execution_count": null,
   "id": "31ce9ead",
   "metadata": {},
   "outputs": [],
   "source": []
  },
  {
   "cell_type": "markdown",
   "id": "8dfd9169",
   "metadata": {},
   "source": [
    "b) On lance deux dés équilibrés à quatre faces et on prend le plus grand des deux nombres."
   ]
  },
  {
   "cell_type": "code",
   "execution_count": null,
   "id": "4a75136f",
   "metadata": {},
   "outputs": [],
   "source": []
  },
  {
   "cell_type": "markdown",
   "id": "8bbc5072",
   "metadata": {},
   "source": [
    "c) On lance deux dés équilibrés à six faces et on multiplie les nombres obtenus."
   ]
  },
  {
   "cell_type": "code",
   "execution_count": null,
   "id": "64632fd9",
   "metadata": {},
   "outputs": [],
   "source": []
  },
  {
   "cell_type": "markdown",
   "id": "e91128e5",
   "metadata": {},
   "source": [
    "d) On lance deux dés équilibrés à douze faces et on prend le plus petit des deux nombres."
   ]
  },
  {
   "cell_type": "code",
   "execution_count": null,
   "id": "53eaecad",
   "metadata": {},
   "outputs": [],
   "source": []
  }
 ],
 "metadata": {
  "kernelspec": {
   "display_name": "Python 3 (ipykernel)",
   "language": "python",
   "name": "python3"
  },
  "language_info": {
   "codemirror_mode": {
    "name": "ipython",
    "version": 3
   },
   "file_extension": ".py",
   "mimetype": "text/x-python",
   "name": "python",
   "nbconvert_exporter": "python",
   "pygments_lexer": "ipython3",
   "version": "3.9.13"
  }
 },
 "nbformat": 4,
 "nbformat_minor": 5
}
